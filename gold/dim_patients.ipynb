{
 "cells": [
  {
   "cell_type": "code",
   "execution_count": 0,
   "metadata": {
    "application/vnd.databricks.v1+cell": {
     "cellMetadata": {
      "byteLimit": 2048000,
      "rowLimit": 10000
     },
     "inputWidgets": {},
     "nuid": "c104acfa-260e-487f-96fd-20312c0e333a",
     "showTitle": false,
     "tableResultSettingsMap": {},
     "title": ""
    }
   },
   "outputs": [],
   "source": [
    "# service principal for integrating with ADLS and access it's data\n",
    "\n",
    "spark.conf.set(\"fs.azure.account.auth.type.hpadlsacc.dfs.core.windows.net\", \"OAuth\")\n",
    "spark.conf.set(\"fs.azure.account.oauth.provider.type.hpadlsacc.dfs.core.windows.net\", \"org.apache.hadoop.fs.azurebfs.oauth2.ClientCredsTokenProvider\")\n",
    "spark.conf.set(\"fs.azure.account.oauth2.client.id.hpadlsacc.dfs.core.windows.net\", dbutils.secrets.get(\"hc-secret-scope\", \"app-key\"))\n",
    "spark.conf.set(\"fs.azure.account.oauth2.client.secret.hpadlsacc.dfs.core.windows.net\", dbutils.secrets.get(\"hc-secret-scope\", \"service-cred\"))\n",
    "tenant_id = dbutils.secrets.get(\"hc-secret-scope\", \"dir-id\")\n",
    "spark.conf.set(\"fs.azure.account.oauth2.client.endpoint.hpadlsacc.dfs.core.windows.net\", f\"https://login.microsoftonline.com/{tenant_id}/oauth2/token\")"
   ]
  },
  {
   "cell_type": "markdown",
   "metadata": {
    "application/vnd.databricks.v1+cell": {
     "cellMetadata": {},
     "inputWidgets": {},
     "nuid": "bf6e934e-eabf-46df-8dff-3c80784ad552",
     "showTitle": false,
     "tableResultSettingsMap": {},
     "title": ""
    }
   },
   "source": [
    "# Creating dimensional patient table"
   ]
  },
  {
   "cell_type": "code",
   "execution_count": 0,
   "metadata": {
    "application/vnd.databricks.v1+cell": {
     "cellMetadata": {
      "byteLimit": 2048000,
      "implicitDf": true,
      "rowLimit": 10000
     },
     "inputWidgets": {},
     "nuid": "f0e96ae6-e4e3-42f3-8049-fed53ba8d46f",
     "showTitle": false,
     "tableResultSettingsMap": {},
     "title": ""
    }
   },
   "outputs": [],
   "source": [
    "%sql\n",
    "--creating the dim_patient table with ADLS as external location\n",
    "\n",
    "CREATE TABLE IF NOT EXISTS gold.dim_patient (\n",
    "    patient_key STRING,\n",
    "    src_patientid STRING,\n",
    "    firstname STRING,\n",
    "    lastname STRING,\n",
    "    middlename STRING,\n",
    "    ssn STRING,\n",
    "    phonenumber STRING,\n",
    "    gender STRING,\n",
    "    dob DATE,\n",
    "    address STRING,\n",
    "    datasource STRING\n",
    ")\n",
    "USING DELTA\n",
    "LOCATION \"abfss://gold@hpadlsacc.dfs.core.windows.net/dim_patient\";\n"
   ]
  },
  {
   "cell_type": "code",
   "execution_count": 0,
   "metadata": {
    "application/vnd.databricks.v1+cell": {
     "cellMetadata": {
      "byteLimit": 2048000,
      "implicitDf": true,
      "rowLimit": 10000
     },
     "inputWidgets": {},
     "nuid": "e458709b-38ca-419d-8af8-91ab853b43cf",
     "showTitle": false,
     "tableResultSettingsMap": {},
     "title": ""
    }
   },
   "outputs": [],
   "source": [
    "%sql\n",
    "-- reseting the table for each run\n",
    "truncate table gold.dim_patient;"
   ]
  },
  {
   "cell_type": "code",
   "execution_count": 0,
   "metadata": {
    "application/vnd.databricks.v1+cell": {
     "cellMetadata": {
      "byteLimit": 2048000,
      "implicitDf": true,
      "rowLimit": 10000
     },
     "inputWidgets": {},
     "nuid": "cdaba029-a94a-4f87-832b-e1e7430741c5",
     "showTitle": false,
     "tableResultSettingsMap": {},
     "title": ""
    }
   },
   "outputs": [],
   "source": [
    "%sql\n",
    "-- loading the data from the silver patient table\n",
    "INSERT INTO gold.dim_patient\n",
    "SELECT \n",
    "    patient_key,\n",
    "    src_patientid,\n",
    "    firstname,\n",
    "    lastname,\n",
    "    middlename,\n",
    "    ssn,\n",
    "    phonenumber,\n",
    "    gender,\n",
    "    dob,\n",
    "    address,\n",
    "    datasource\n",
    "FROM silver.patients\n",
    "WHERE is_current = true AND is_quarantined = false;\n"
   ]
  },
  {
   "cell_type": "code",
   "execution_count": 0,
   "metadata": {
    "application/vnd.databricks.v1+cell": {
     "cellMetadata": {
      "byteLimit": 2048000,
      "implicitDf": true,
      "rowLimit": 10000
     },
     "inputWidgets": {},
     "nuid": "99cf9236-53c9-4714-b1f4-22eb6ee6b283",
     "showTitle": false,
     "tableResultSettingsMap": {},
     "title": ""
    }
   },
   "outputs": [],
   "source": [
    "%sql\n",
    "-- getting some record\n",
    "select * from gold.dim_patient;"
   ]
  }
 ],
 "metadata": {
  "application/vnd.databricks.v1+notebook": {
   "computePreferences": null,
   "dashboards": [],
   "environmentMetadata": {
    "base_environment": "",
    "environment_version": "2"
   },
   "inputWidgetPreferences": null,
   "language": "python",
   "notebookMetadata": {
    "mostRecentlyExecutedCommandWithImplicitDF": {
     "commandId": 4709404267024789,
     "dataframes": [
      "_sqldf"
     ]
    },
    "pythonIndentUnit": 4
   },
   "notebookName": "dim_patients",
   "widgets": {}
  },
  "language_info": {
   "name": "python"
  }
 },
 "nbformat": 4,
 "nbformat_minor": 0
}
