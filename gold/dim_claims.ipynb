{
 "cells": [
  {
   "cell_type": "code",
   "execution_count": 0,
   "metadata": {
    "application/vnd.databricks.v1+cell": {
     "cellMetadata": {
      "byteLimit": 2048000,
      "rowLimit": 10000
     },
     "inputWidgets": {},
     "nuid": "d0026e90-ed65-481b-a4b6-5ac005e3bd51",
     "showTitle": false,
     "tableResultSettingsMap": {},
     "title": ""
    }
   },
   "outputs": [],
   "source": [
    "# service principal for integrating with ADLS and access it's data\n",
    "\n",
    "spark.conf.set(\"fs.azure.account.auth.type.hpadlsacc.dfs.core.windows.net\", \"OAuth\")\n",
    "spark.conf.set(\"fs.azure.account.oauth.provider.type.hpadlsacc.dfs.core.windows.net\", \"org.apache.hadoop.fs.azurebfs.oauth2.ClientCredsTokenProvider\")\n",
    "spark.conf.set(\"fs.azure.account.oauth2.client.id.hpadlsacc.dfs.core.windows.net\", dbutils.secrets.get(\"hc-secret-scope\", \"app-key\"))\n",
    "spark.conf.set(\"fs.azure.account.oauth2.client.secret.hpadlsacc.dfs.core.windows.net\", dbutils.secrets.get(\"hc-secret-scope\", \"service-cred\"))\n",
    "tenant_id = dbutils.secrets.get(\"hc-secret-scope\", \"dir-id\")\n",
    "spark.conf.set(\"fs.azure.account.oauth2.client.endpoint.hpadlsacc.dfs.core.windows.net\", f\"https://login.microsoftonline.com/{tenant_id}/oauth2/token\")"
   ]
  },
  {
   "cell_type": "markdown",
   "metadata": {
    "application/vnd.databricks.v1+cell": {
     "cellMetadata": {},
     "inputWidgets": {},
     "nuid": "1a338d48-522d-48b1-8151-9964c89980fd",
     "showTitle": false,
     "tableResultSettingsMap": {},
     "title": ""
    }
   },
   "source": [
    "# Create claims dimensional table"
   ]
  },
  {
   "cell_type": "code",
   "execution_count": 0,
   "metadata": {
    "application/vnd.databricks.v1+cell": {
     "cellMetadata": {
      "byteLimit": 2048000,
      "implicitDf": true,
      "rowLimit": 10000
     },
     "inputWidgets": {},
     "nuid": "dc56fdf3-e944-4c3f-95ba-89dc8ec35eef",
     "showTitle": false,
     "tableResultSettingsMap": {},
     "title": ""
    }
   },
   "outputs": [],
   "source": [
    "%sql\n",
    "-- creating a dim table with external location(ADLS) \n",
    "CREATE TABLE IF NOT EXISTS gold.dim_claims(\n",
    "ClaimID STRING,\n",
    "SRC_ClaimID STRING,\n",
    "TransactionID STRING,\n",
    "PatientID STRING,\n",
    "EncounterID STRING,\n",
    "ProviderID STRING,\n",
    "DeptID STRING,\n",
    "ServiceDate DATE,\n",
    "ClaimDate DATE,\n",
    "PayorID STRING,\n",
    "ClaimAmount STRING,\n",
    "PaidAmount STRING,\n",
    "ClaimStatus STRING,\n",
    "PayorType STRING,\n",
    "Deductible STRING,\n",
    "Coinsurance STRING,\n",
    "Copay STRING,\n",
    "datasource STRING\n",
    ")\n",
    "USING DELTA\n",
    "LOCATION \"abfss://gold@hpadlsacc.dfs.core.windows.net/dim_claims\";"
   ]
  },
  {
   "cell_type": "code",
   "execution_count": 0,
   "metadata": {
    "application/vnd.databricks.v1+cell": {
     "cellMetadata": {
      "byteLimit": 2048000,
      "implicitDf": true,
      "rowLimit": 10000
     },
     "inputWidgets": {},
     "nuid": "10836c44-6318-405b-84ff-c8a1323532d6",
     "showTitle": false,
     "tableResultSettingsMap": {},
     "title": ""
    }
   },
   "outputs": [],
   "source": [
    "%sql \n",
    "-- reset the table\n",
    "truncate table gold.dim_claims;"
   ]
  },
  {
   "cell_type": "code",
   "execution_count": 0,
   "metadata": {
    "application/vnd.databricks.v1+cell": {
     "cellMetadata": {
      "byteLimit": 2048000,
      "implicitDf": true,
      "rowLimit": 10000
     },
     "inputWidgets": {},
     "nuid": "bab3c811-8722-478b-96ad-3a20d523baf9",
     "showTitle": false,
     "tableResultSettingsMap": {},
     "title": ""
    }
   },
   "outputs": [],
   "source": [
    "%sql\n",
    "-- finally inserting the record into it from the silver claims table\n",
    "-- filtering by (is_quarantined = false and is_current = True)\n",
    "INSERT INTO gold.dim_claims\n",
    "SELECT \n",
    "ClaimID,\n",
    "SRC_ClaimID,\n",
    "TransactionID,\n",
    "PatientID,\n",
    "EncounterID,\n",
    "ProviderID,\n",
    "DeptID,\n",
    "ServiceDate,\n",
    "ClaimDate,\n",
    "PayorID,\n",
    "ClaimAmount,\n",
    "PaidAmount,\n",
    "ClaimStatus,\n",
    "PayorType,\n",
    "Deductible,\n",
    "Coinsurance,\n",
    "Copay,\n",
    "datasource\n",
    "from silver.claims\n",
    "where\n",
    "is_quarantined = false and is_current = True;\n"
   ]
  },
  {
   "cell_type": "code",
   "execution_count": 0,
   "metadata": {
    "application/vnd.databricks.v1+cell": {
     "cellMetadata": {
      "byteLimit": 2048000,
      "implicitDf": true,
      "rowLimit": 10000
     },
     "inputWidgets": {},
     "nuid": "20a14492-e1d9-4578-a903-de20687a17de",
     "showTitle": false,
     "tableResultSettingsMap": {},
     "title": ""
    }
   },
   "outputs": [],
   "source": [
    "%sql\n",
    "-- reading some records\n",
    "select * from gold.dim_claims;"
   ]
  }
 ],
 "metadata": {
  "application/vnd.databricks.v1+notebook": {
   "computePreferences": null,
   "dashboards": [],
   "environmentMetadata": {
    "base_environment": "",
    "environment_version": "2"
   },
   "inputWidgetPreferences": null,
   "language": "python",
   "notebookMetadata": {
    "mostRecentlyExecutedCommandWithImplicitDF": {
     "commandId": 4709404267024802,
     "dataframes": [
      "_sqldf"
     ]
    },
    "pythonIndentUnit": 4
   },
   "notebookName": "dim_claims",
   "widgets": {}
  },
  "language_info": {
   "name": "python"
  }
 },
 "nbformat": 4,
 "nbformat_minor": 0
}
