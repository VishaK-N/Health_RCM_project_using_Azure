{
 "cells": [
  {
   "cell_type": "code",
   "execution_count": 0,
   "metadata": {
    "application/vnd.databricks.v1+cell": {
     "cellMetadata": {
      "byteLimit": 2048000,
      "rowLimit": 10000
     },
     "inputWidgets": {},
     "nuid": "8c2a4c84-080f-4d3f-9f8d-b251bc2fcf56",
     "showTitle": false,
     "tableResultSettingsMap": {},
     "title": ""
    }
   },
   "outputs": [],
   "source": [
    "# service principal for integrating with ADLS and access it's data\n",
    "\n",
    "spark.conf.set(\"fs.azure.account.auth.type.hpadlsacc.dfs.core.windows.net\", \"OAuth\")\n",
    "spark.conf.set(\"fs.azure.account.oauth.provider.type.hpadlsacc.dfs.core.windows.net\", \"org.apache.hadoop.fs.azurebfs.oauth2.ClientCredsTokenProvider\")\n",
    "spark.conf.set(\"fs.azure.account.oauth2.client.id.hpadlsacc.dfs.core.windows.net\", dbutils.secrets.get(\"hc-secret-scope\", \"app-key\"))\n",
    "spark.conf.set(\"fs.azure.account.oauth2.client.secret.hpadlsacc.dfs.core.windows.net\", dbutils.secrets.get(\"hc-secret-scope\", \"service-cred\"))\n",
    "tenant_id = dbutils.secrets.get(\"hc-secret-scope\", \"dir-id\")\n",
    "spark.conf.set(\"fs.azure.account.oauth2.client.endpoint.hpadlsacc.dfs.core.windows.net\", f\"https://login.microsoftonline.com/{tenant_id}/oauth2/token\")"
   ]
  },
  {
   "cell_type": "markdown",
   "metadata": {
    "application/vnd.databricks.v1+cell": {
     "cellMetadata": {},
     "inputWidgets": {},
     "nuid": "8095c17d-df79-4cb4-be43-4f90398fba54",
     "showTitle": false,
     "tableResultSettingsMap": {},
     "title": ""
    }
   },
   "source": [
    "# creating dimesional provider table"
   ]
  },
  {
   "cell_type": "code",
   "execution_count": 0,
   "metadata": {
    "application/vnd.databricks.v1+cell": {
     "cellMetadata": {
      "byteLimit": 2048000,
      "implicitDf": true,
      "rowLimit": 10000
     },
     "inputWidgets": {},
     "nuid": "58c6b320-1791-40e3-bf99-04ad402099e2",
     "showTitle": false,
     "tableResultSettingsMap": {},
     "title": ""
    }
   },
   "outputs": [],
   "source": [
    "%sql\n",
    "-- creating a dim privider table from the silver.providers table\n",
    "\n",
    "CREATE TABLE IF NOT EXISTS gold.dim_provider (\n",
    "  ProviderID string,\n",
    "  FirstName string,\n",
    "  LastName string,\n",
    "  DeptID string,\n",
    "  datasource string\n",
    ")\n",
    "USING DELTA\n",
    "LOCATION \"abfss://gold@hpadlsacc.dfs.core.windows.net/dim_provider\";\n"
   ]
  },
  {
   "cell_type": "code",
   "execution_count": 0,
   "metadata": {
    "application/vnd.databricks.v1+cell": {
     "cellMetadata": {
      "byteLimit": 2048000,
      "implicitDf": true,
      "rowLimit": 10000
     },
     "inputWidgets": {},
     "nuid": "1829d2e4-90e7-45b2-a571-54912f1305f8",
     "showTitle": false,
     "tableResultSettingsMap": {},
     "title": ""
    }
   },
   "outputs": [],
   "source": [
    "%sql\n",
    "-- truncate the table\n",
    "truncate TABLE gold.dim_provider;\n"
   ]
  },
  {
   "cell_type": "code",
   "execution_count": 0,
   "metadata": {
    "application/vnd.databricks.v1+cell": {
     "cellMetadata": {
      "byteLimit": 2048000,
      "implicitDf": true,
      "rowLimit": 10000
     },
     "inputWidgets": {},
     "nuid": "e7314547-15f7-4604-a184-9f2a0ad36002",
     "showTitle": false,
     "tableResultSettingsMap": {},
     "title": ""
    }
   },
   "outputs": [],
   "source": [
    "%sql\n",
    "-- inserting data\n",
    "INSERT INTO gold.dim_provider\n",
    "SELECT \n",
    "  ProviderID,\n",
    "  FirstName,\n",
    "  LastName,\n",
    "  CONCAT(DeptID, '-', datasource) AS DeptID,\n",
    "  datasource\n",
    "FROM silver.providers\n",
    "WHERE is_quarantined = false;\n"
   ]
  },
  {
   "cell_type": "code",
   "execution_count": 0,
   "metadata": {
    "application/vnd.databricks.v1+cell": {
     "cellMetadata": {
      "byteLimit": 2048000,
      "implicitDf": true,
      "rowLimit": 10000
     },
     "inputWidgets": {},
     "nuid": "3d2824fb-3aae-4aaa-8e7f-bb14b3194f27",
     "showTitle": false,
     "tableResultSettingsMap": {},
     "title": ""
    }
   },
   "outputs": [],
   "source": [
    "%sql\n",
    "-- display the table\n",
    "select  * from gold.dim_provider;"
   ]
  }
 ],
 "metadata": {
  "application/vnd.databricks.v1+notebook": {
   "computePreferences": null,
   "dashboards": [],
   "environmentMetadata": {
    "base_environment": "",
    "environment_version": "2"
   },
   "inputWidgetPreferences": null,
   "language": "python",
   "notebookMetadata": {
    "mostRecentlyExecutedCommandWithImplicitDF": {
     "commandId": 4709404267024785,
     "dataframes": [
      "_sqldf"
     ]
    },
    "pythonIndentUnit": 4
   },
   "notebookName": "dim_providers",
   "widgets": {}
  },
  "language_info": {
   "name": "python"
  }
 },
 "nbformat": 4,
 "nbformat_minor": 0
}
