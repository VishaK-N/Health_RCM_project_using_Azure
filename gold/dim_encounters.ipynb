{
 "cells": [
  {
   "cell_type": "code",
   "execution_count": 0,
   "metadata": {
    "application/vnd.databricks.v1+cell": {
     "cellMetadata": {
      "byteLimit": 2048000,
      "rowLimit": 10000
     },
     "inputWidgets": {},
     "nuid": "10b249d4-b3e9-47d0-b92d-3781dd4906cf",
     "showTitle": false,
     "tableResultSettingsMap": {},
     "title": ""
    }
   },
   "outputs": [],
   "source": [
    "# service principal for integrating with ADLS and access it's data\n",
    "\n",
    "spark.conf.set(\"fs.azure.account.auth.type.hpadlsacc.dfs.core.windows.net\", \"OAuth\")\n",
    "spark.conf.set(\"fs.azure.account.oauth.provider.type.hpadlsacc.dfs.core.windows.net\", \"org.apache.hadoop.fs.azurebfs.oauth2.ClientCredsTokenProvider\")\n",
    "spark.conf.set(\"fs.azure.account.oauth2.client.id.hpadlsacc.dfs.core.windows.net\", dbutils.secrets.get(\"hc-secret-scope\", \"app-key\"))\n",
    "spark.conf.set(\"fs.azure.account.oauth2.client.secret.hpadlsacc.dfs.core.windows.net\", dbutils.secrets.get(\"hc-secret-scope\", \"service-cred\"))\n",
    "tenant_id = dbutils.secrets.get(\"hc-secret-scope\", \"dir-id\")\n",
    "spark.conf.set(\"fs.azure.account.oauth2.client.endpoint.hpadlsacc.dfs.core.windows.net\", f\"https://login.microsoftonline.com/{tenant_id}/oauth2/token\")"
   ]
  },
  {
   "cell_type": "markdown",
   "metadata": {
    "application/vnd.databricks.v1+cell": {
     "cellMetadata": {},
     "inputWidgets": {},
     "nuid": "f3420af5-5d9d-4e4c-8a33-11e89d513668",
     "showTitle": false,
     "tableResultSettingsMap": {},
     "title": ""
    }
   },
   "source": [
    "# creating encounters dimesional table"
   ]
  },
  {
   "cell_type": "code",
   "execution_count": 0,
   "metadata": {
    "application/vnd.databricks.v1+cell": {
     "cellMetadata": {
      "byteLimit": 2048000,
      "implicitDf": true,
      "rowLimit": 10000
     },
     "inputWidgets": {},
     "nuid": "9467b8f3-a500-4570-85b3-51dd0a5bc6ad",
     "showTitle": false,
     "tableResultSettingsMap": {},
     "title": ""
    }
   },
   "outputs": [],
   "source": [
    "%sql\n",
    "-- creating a dim_encounter table with external location\n",
    "CREATE TABLE IF NOT EXISTS gold.dim_encounter (\n",
    "EncounterID STRING,\n",
    "SRC_EncounterID STRING,\n",
    "PatientID STRING,\n",
    "EncounterDate DATE,\n",
    "EncounterType STRING,\n",
    "ProviderID STRING,\n",
    "DepartmentID STRING,\n",
    "ProcedureCode INT,\n",
    "datasource STRING\n",
    ")\n",
    "USING DELTA\n",
    "LOCATION \"abfss://gold@hpadlsacc.dfs.core.windows.net/dim_encounter\"\n"
   ]
  },
  {
   "cell_type": "code",
   "execution_count": 0,
   "metadata": {
    "application/vnd.databricks.v1+cell": {
     "cellMetadata": {
      "byteLimit": 2048000,
      "implicitDf": true,
      "rowLimit": 10000
     },
     "inputWidgets": {},
     "nuid": "ffe09e8c-71d4-4e42-9b6e-39037d253c66",
     "showTitle": false,
     "tableResultSettingsMap": {},
     "title": ""
    }
   },
   "outputs": [],
   "source": [
    "%sql\n",
    "-- reset table\n",
    "truncate table gold.dim_encounter"
   ]
  },
  {
   "cell_type": "code",
   "execution_count": 0,
   "metadata": {
    "application/vnd.databricks.v1+cell": {
     "cellMetadata": {
      "byteLimit": 2048000,
      "implicitDf": true,
      "rowLimit": 10000
     },
     "inputWidgets": {},
     "nuid": "289f53b6-4865-494d-ae16-a66995757226",
     "showTitle": false,
     "tableResultSettingsMap": {},
     "title": ""
    }
   },
   "outputs": [],
   "source": [
    "%sql\n",
    "-- inserting into dim_encounter\n",
    "INSERT INTO gold.dim_encounter\n",
    "SELECT \n",
    "EncounterID,\n",
    "SRC_EncounterID,\n",
    "PatientID,\n",
    "EncounterDate,\n",
    "EncounterType,\n",
    "ProviderID,\n",
    "DepartmentID,\n",
    "ProcedureCode,\n",
    "datasource\n",
    "from silver.encounters\n",
    "where is_current = true and is_quarantined = false;"
   ]
  },
  {
   "cell_type": "code",
   "execution_count": 0,
   "metadata": {
    "application/vnd.databricks.v1+cell": {
     "cellMetadata": {
      "byteLimit": 2048000,
      "implicitDf": true,
      "rowLimit": 10000
     },
     "inputWidgets": {},
     "nuid": "bf843668-f39e-4da1-a098-73477ea6a432",
     "showTitle": false,
     "tableResultSettingsMap": {
      "0": {
       "dataGridStateBlob": "{\"version\":1,\"tableState\":{\"columnPinning\":{\"left\":[\"#row_number#\"],\"right\":[]},\"columnSizing\":{},\"columnVisibility\":{}},\"settings\":{\"columns\":{}},\"syncTimestamp\":1753608262292}",
       "filterBlob": null,
       "queryPlanFiltersBlob": null,
       "tableResultIndex": 0
      }
     },
     "title": ""
    }
   },
   "outputs": [],
   "source": [
    "%sql\n",
    "-- getting some records\n",
    "select * from gold.dim_encounter\n",
    "where datasource = \"hos-b\";"
   ]
  }
 ],
 "metadata": {
  "application/vnd.databricks.v1+notebook": {
   "computePreferences": null,
   "dashboards": [],
   "environmentMetadata": {
    "base_environment": "",
    "environment_version": "2"
   },
   "inputWidgetPreferences": null,
   "language": "python",
   "notebookMetadata": {
    "mostRecentlyExecutedCommandWithImplicitDF": {
     "commandId": 4709404267024791,
     "dataframes": [
      "_sqldf"
     ]
    },
    "pythonIndentUnit": 4
   },
   "notebookName": "dim_encounters",
   "widgets": {}
  },
  "language_info": {
   "name": "python"
  }
 },
 "nbformat": 4,
 "nbformat_minor": 0
}
