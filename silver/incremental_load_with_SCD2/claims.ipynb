{
 "cells": [
  {
   "cell_type": "code",
   "execution_count": 0,
   "metadata": {
    "application/vnd.databricks.v1+cell": {
     "cellMetadata": {
      "byteLimit": 2048000,
      "rowLimit": 10000
     },
     "inputWidgets": {},
     "nuid": "7dd7298d-289f-495b-b5d3-a190f35df676",
     "showTitle": false,
     "tableResultSettingsMap": {},
     "title": ""
    }
   },
   "outputs": [],
   "source": [
    "# service principal for integrating with ADLS and access it's data\n",
    "\n",
    "spark.conf.set(\"fs.azure.account.auth.type.hpadlsacc.dfs.core.windows.net\", \"OAuth\")\n",
    "spark.conf.set(\"fs.azure.account.oauth.provider.type.hpadlsacc.dfs.core.windows.net\", \"org.apache.hadoop.fs.azurebfs.oauth2.ClientCredsTokenProvider\")\n",
    "spark.conf.set(\"fs.azure.account.oauth2.client.id.hpadlsacc.dfs.core.windows.net\", dbutils.secrets.get(\"hc-secret-scope\", \"app-key\"))\n",
    "spark.conf.set(\"fs.azure.account.oauth2.client.secret.hpadlsacc.dfs.core.windows.net\", dbutils.secrets.get(\"hc-secret-scope\", \"service-cred\"))\n",
    "tenant_id = dbutils.secrets.get(\"hc-secret-scope\", \"dir-id\")\n",
    "spark.conf.set(\"fs.azure.account.oauth2.client.endpoint.hpadlsacc.dfs.core.windows.net\", f\"https://login.microsoftonline.com/{tenant_id}/oauth2/token\")"
   ]
  },
  {
   "cell_type": "markdown",
   "metadata": {
    "application/vnd.databricks.v1+cell": {
     "cellMetadata": {},
     "inputWidgets": {},
     "nuid": "a09ac00f-8d00-439a-95a4-9c6fab5b2382",
     "showTitle": false,
     "tableResultSettingsMap": {},
     "title": ""
    }
   },
   "source": [
    "# Creating claims table in Silver layer"
   ]
  },
  {
   "cell_type": "code",
   "execution_count": 0,
   "metadata": {
    "application/vnd.databricks.v1+cell": {
     "cellMetadata": {
      "byteLimit": 2048000,
      "rowLimit": 10000
     },
     "inputWidgets": {},
     "nuid": "7a9bc3ed-85ea-4e99-99ba-b6a2cd9c9790",
     "showTitle": false,
     "tableResultSettingsMap": {},
     "title": ""
    }
   },
   "outputs": [],
   "source": [
    "# defining the source path for claims data\n",
    "src_path = \"abfss://bronze@hpadlsacc.dfs.core.windows.net/claims/\"\n",
    "\n",
    "# reading the path\n",
    "claims_df = spark.read.format(\"parquet\").load(src_path)\n",
    "display(claims_df)\n",
    "\n",
    "# to do sql operations, we need to register the dataframe as a temp view\n",
    "claims_df.createOrReplaceTempView(\"claims\")"
   ]
  },
  {
   "cell_type": "code",
   "execution_count": 0,
   "metadata": {
    "application/vnd.databricks.v1+cell": {
     "cellMetadata": {
      "byteLimit": 2048000,
      "implicitDf": true,
      "rowLimit": 10000
     },
     "inputWidgets": {},
     "nuid": "38ca795f-da69-4890-acee-189159531ab0",
     "showTitle": false,
     "tableResultSettingsMap": {},
     "title": ""
    }
   },
   "outputs": [],
   "source": [
    "%sql\n",
    "-- creating the temp view for quality check\n",
    "-- adding a new column 'is_quarantined' to check for null values\n",
    "-- if any primary/important column null then the particular record should be quarantined(True)\n",
    "-- else Not(False)\n",
    "\n",
    "CREATE OR REPLACE TEMP VIEW quality_checks AS\n",
    "SELECT \n",
    " CONCAT(ClaimID,'-', datasource) AS ClaimID,\n",
    " ClaimID AS SRC_ClaimID,\n",
    " TransactionID,\n",
    " PatientID,\n",
    " EncounterID,\n",
    " ProviderID,\n",
    " DeptID,\n",
    " cast(ServiceDate as date) ServiceDate,\n",
    " cast(ClaimDate as date) ClaimDate,\n",
    " PayorID,\n",
    " ClaimAmount,\n",
    " PaidAmount,\n",
    " ClaimStatus,\n",
    " PayorType,\n",
    " Deductible,\n",
    " Coinsurance,\n",
    " Copay,\n",
    " cast(InsertDate as date) as SRC_InsertDate,\n",
    " cast(ModifiedDate as date) as SRC_ModifiedDate,\n",
    " datasource,\n",
    " CASE \n",
    "     WHEN ClaimID IS NULL OR TransactionID IS NULL OR PatientID IS NULL or ServiceDate IS NULL THEN TRUE\n",
    "     ELSE FALSE\n",
    " END AS is_quarantined\n",
    "FROM claims;\n"
   ]
  },
  {
   "cell_type": "code",
   "execution_count": 0,
   "metadata": {
    "application/vnd.databricks.v1+cell": {
     "cellMetadata": {
      "byteLimit": 2048000,
      "implicitDf": true,
      "rowLimit": 10000
     },
     "inputWidgets": {},
     "nuid": "410488ef-d6fe-490a-95ae-0bc8e9369fbe",
     "showTitle": false,
     "tableResultSettingsMap": {},
     "title": ""
    }
   },
   "outputs": [],
   "source": [
    "%sql\n",
    "-- displaying the quality_checks table records\n",
    "select * from quality_checks;"
   ]
  },
  {
   "cell_type": "code",
   "execution_count": 0,
   "metadata": {
    "application/vnd.databricks.v1+cell": {
     "cellMetadata": {
      "byteLimit": 2048000,
      "implicitDf": true,
      "rowLimit": 10000
     },
     "inputWidgets": {},
     "nuid": "220e8c73-b04e-4ac5-bc4d-9e787f278bf9",
     "showTitle": false,
     "tableResultSettingsMap": {},
     "title": ""
    }
   },
   "outputs": [],
   "source": [
    "%sql\n",
    "-- creating the silver.claims external table \n",
    "\n",
    "CREATE TABLE IF NOT EXISTS silver.claims (\n",
    "  ClaimID string,\n",
    "  SRC_ClaimID string,\n",
    "  TransactionID string,\n",
    "  PatientID string,\n",
    "  EncounterID string,\n",
    "  ProviderID string,\n",
    "  DeptID string,\n",
    "  ServiceDate date,\n",
    "  ClaimDate date,\n",
    "  PayorID string,\n",
    "  ClaimAmount string,\n",
    "  PaidAmount string,\n",
    "  ClaimStatus string,\n",
    "  PayorType string,\n",
    "  Deductible string,\n",
    "  Coinsurance string,\n",
    "  Copay string,\n",
    "  SRC_InsertDate date,\n",
    "  SRC_ModifiedDate date,\n",
    "  datasource string,\n",
    "  is_quarantined boolean,\n",
    "  audit_insertdate timestamp,\n",
    "  audit_modifieddate timestamp,\n",
    "  is_current boolean\n",
    ")\n",
    "USING DELTA\n",
    "LOCATION \"abfss://silver@hpadlsacc.dfs.core.windows.net/claims\";\n"
   ]
  },
  {
   "cell_type": "code",
   "execution_count": 0,
   "metadata": {
    "application/vnd.databricks.v1+cell": {
     "cellMetadata": {
      "byteLimit": 2048000,
      "implicitDf": true,
      "rowLimit": 10000
     },
     "inputWidgets": {},
     "nuid": "0b1211e9-361b-4e33-a824-d40f4ebcd31f",
     "showTitle": false,
     "tableResultSettingsMap": {},
     "title": ""
    }
   },
   "outputs": [],
   "source": [
    "%sql\n",
    "-- Step 1: based on condition ClaimID should be simliar and is_current should be true (i.e currently that specific record is active)\n",
    "-- Mark that existing records as historical (is_current = false) for patients that will be updated\n",
    "-- target.is_current = false,\n",
    "-- target.modified_date = current_timestamp()\n",
    "\n",
    "MERGE INTO silver.claims AS target\n",
    "USING quality_checks AS source\n",
    "ON target.ClaimID = source.ClaimID AND target.is_current = true\n",
    "WHEN MATCHED AND (\n",
    "    target.SRC_ClaimID != source.SRC_ClaimID OR\n",
    "    target.TransactionID != source.TransactionID OR\n",
    "    target.PatientID != source.PatientID OR\n",
    "    target.EncounterID != source.EncounterID OR\n",
    "    target.ProviderID != source.ProviderID OR\n",
    "    target.DeptID != source.DeptID OR\n",
    "    target.ServiceDate != source.ServiceDate OR\n",
    "    target.ClaimDate != source.ClaimDate OR\n",
    "    target.PayorID != source.PayorID OR\n",
    "    target.ClaimAmount != source.ClaimAmount OR\n",
    "    target.PaidAmount != source.PaidAmount OR\n",
    "    target.ClaimStatus != source.ClaimStatus OR\n",
    "    target.PayorType != source.PayorType OR\n",
    "    target.Deductible != source.Deductible OR\n",
    "    target.Coinsurance != source.Coinsurance OR\n",
    "    target.Copay != source.Copay OR\n",
    "    target.SRC_InsertDate != source.SRC_InsertDate OR\n",
    "    target.SRC_ModifiedDate != source.SRC_ModifiedDate OR\n",
    "    target.datasource != source.datasource OR\n",
    "    target.is_quarantined != source.is_quarantined\n",
    ") THEN\n",
    "  UPDATE SET\n",
    "    target.is_current = false,\n",
    "    target.audit_modifieddate = current_timestamp()\n"
   ]
  },
  {
   "cell_type": "code",
   "execution_count": 0,
   "metadata": {
    "application/vnd.databricks.v1+cell": {
     "cellMetadata": {
      "byteLimit": 2048000,
      "implicitDf": true,
      "rowLimit": 10000
     },
     "inputWidgets": {},
     "nuid": "cf043753-2a13-41a3-9a72-fe743644415c",
     "showTitle": false,
     "tableResultSettingsMap": {},
     "title": ""
    }
   },
   "outputs": [],
   "source": [
    "%sql\n",
    "-- Step 2: Insert new and updated records into the Delta table, marking them as current\n",
    "-- that is old record is updated with new records\n",
    "-- based on condition claimID should be simliar and is_current should be true (i.e currently that specific record is active)\n",
    "-- because the condition will not satisfy\n",
    "-- inserting the new records which are not present in the silver table and updating the old records\n",
    "\n",
    "MERGE INTO silver.claims AS target\n",
    "USING quality_checks AS source\n",
    "ON target.ClaimID = source.ClaimID AND target.is_current = true\n",
    "WHEN NOT MATCHED THEN\n",
    "  INSERT (\n",
    "    ClaimID,\n",
    "    SRC_ClaimID,\n",
    "    TransactionID,\n",
    "    PatientID,\n",
    "    EncounterID,\n",
    "    ProviderID,\n",
    "    DeptID,\n",
    "    ServiceDate,\n",
    "    ClaimDate,\n",
    "    PayorID,\n",
    "    ClaimAmount,\n",
    "    PaidAmount,\n",
    "    ClaimStatus,\n",
    "    PayorType,\n",
    "    Deductible,\n",
    "    Coinsurance,\n",
    "    Copay,\n",
    "    SRC_InsertDate,\n",
    "    SRC_ModifiedDate,\n",
    "    datasource,\n",
    "    is_quarantined,\n",
    "    audit_insertdate,\n",
    "    audit_modifieddate,\n",
    "    is_current\n",
    "  )\n",
    "  VALUES (\n",
    "    source.ClaimID,\n",
    "    source.SRC_ClaimID,\n",
    "    source.TransactionID,\n",
    "    source.PatientID,\n",
    "    source.EncounterID,\n",
    "    source.ProviderID,\n",
    "    source.DeptID,\n",
    "    source.ServiceDate,\n",
    "    source.ClaimDate,\n",
    "    source.PayorID,\n",
    "    source.ClaimAmount,\n",
    "    source.PaidAmount,\n",
    "    source.ClaimStatus,\n",
    "    source.PayorType,\n",
    "    source.Deductible,\n",
    "    source.Coinsurance,\n",
    "    source.Copay,\n",
    "    source.SRC_InsertDate,\n",
    "    source.SRC_ModifiedDate,\n",
    "    source.datasource,\n",
    "    source.is_quarantined,\n",
    "    current_timestamp(),\n",
    "    current_timestamp(),\n",
    "    true\n",
    "  );\n"
   ]
  },
  {
   "cell_type": "code",
   "execution_count": 0,
   "metadata": {
    "application/vnd.databricks.v1+cell": {
     "cellMetadata": {
      "byteLimit": 2048000,
      "implicitDf": true,
      "rowLimit": 10000
     },
     "inputWidgets": {},
     "nuid": "6bfe37b7-955f-415f-9b5c-d21e67b15324",
     "showTitle": false,
     "tableResultSettingsMap": {},
     "title": ""
    }
   },
   "outputs": [],
   "source": [
    "%sql\n",
    "-- pulling some records\n",
    "select * from  silver.claims"
   ]
  },
  {
   "cell_type": "code",
   "execution_count": 0,
   "metadata": {
    "application/vnd.databricks.v1+cell": {
     "cellMetadata": {
      "byteLimit": 2048000,
      "implicitDf": true,
      "rowLimit": 10000
     },
     "inputWidgets": {},
     "nuid": "ba7f2eba-83b5-47e0-bffa-d2d7ecfaa936",
     "showTitle": false,
     "tableResultSettingsMap": {},
     "title": ""
    }
   },
   "outputs": [],
   "source": [
    "%sql\n",
    "-- drop table silver.claims"
   ]
  }
 ],
 "metadata": {
  "application/vnd.databricks.v1+notebook": {
   "computePreferences": null,
   "dashboards": [],
   "environmentMetadata": {
    "base_environment": "",
    "environment_version": "3"
   },
   "inputWidgetPreferences": null,
   "language": "python",
   "notebookMetadata": {
    "mostRecentlyExecutedCommandWithImplicitDF": {
     "commandId": 6198584015607605,
     "dataframes": [
      "_sqldf"
     ]
    },
    "pythonIndentUnit": 4
   },
   "notebookName": "claims",
   "widgets": {}
  },
  "language_info": {
   "name": "python"
  }
 },
 "nbformat": 4,
 "nbformat_minor": 0
}
