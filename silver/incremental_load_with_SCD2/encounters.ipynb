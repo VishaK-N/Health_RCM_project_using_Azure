{
 "cells": [
  {
   "cell_type": "code",
   "execution_count": 0,
   "metadata": {
    "application/vnd.databricks.v1+cell": {
     "cellMetadata": {
      "byteLimit": 2048000,
      "rowLimit": 10000
     },
     "inputWidgets": {},
     "nuid": "870c2035-a2eb-4e04-ab4f-d5ac2dacc7b8",
     "showTitle": false,
     "tableResultSettingsMap": {},
     "title": ""
    }
   },
   "outputs": [],
   "source": [
    "# service principal for integrating with ADLS and access it's data\n",
    "\n",
    "spark.conf.set(\"fs.azure.account.auth.type.hpadlsacc.dfs.core.windows.net\", \"OAuth\")\n",
    "spark.conf.set(\"fs.azure.account.oauth.provider.type.hpadlsacc.dfs.core.windows.net\", \"org.apache.hadoop.fs.azurebfs.oauth2.ClientCredsTokenProvider\")\n",
    "spark.conf.set(\"fs.azure.account.oauth2.client.id.hpadlsacc.dfs.core.windows.net\", dbutils.secrets.get(\"hc-secret-scope\", \"app-key\"))\n",
    "spark.conf.set(\"fs.azure.account.oauth2.client.secret.hpadlsacc.dfs.core.windows.net\", dbutils.secrets.get(\"hc-secret-scope\", \"service-cred\"))\n",
    "tenant_id = dbutils.secrets.get(\"hc-secret-scope\", \"dir-id\")\n",
    "spark.conf.set(\"fs.azure.account.oauth2.client.endpoint.hpadlsacc.dfs.core.windows.net\", f\"https://login.microsoftonline.com/{tenant_id}/oauth2/token\")"
   ]
  },
  {
   "cell_type": "markdown",
   "metadata": {
    "application/vnd.databricks.v1+cell": {
     "cellMetadata": {},
     "inputWidgets": {},
     "nuid": "21d09f30-b53b-42e1-8349-73c909ddb634",
     "showTitle": false,
     "tableResultSettingsMap": {},
     "title": ""
    }
   },
   "source": [
    "# Creating encounters table in Silver layer"
   ]
  },
  {
   "cell_type": "code",
   "execution_count": 0,
   "metadata": {
    "application/vnd.databricks.v1+cell": {
     "cellMetadata": {
      "byteLimit": 2048000,
      "rowLimit": 10000
     },
     "inputWidgets": {},
     "nuid": "b6f65fb2-3971-4044-a9a7-4603ef1d0c74",
     "showTitle": false,
     "tableResultSettingsMap": {},
     "title": ""
    }
   },
   "outputs": [],
   "source": [
    "# defining the source path for both the hospitals \n",
    "\n",
    "src_hosa = \"abfss://bronze@hpadlsacc.dfs.core.windows.net/hos-a/encounters\"\n",
    "src_hosb = \"abfss://bronze@hpadlsacc.dfs.core.windows.net/hos-b/encounters\"\n",
    "\n",
    "# reading the data from the hospital a encounters\n",
    "df_hosa = spark.read.format(\"parquet\").load(src_hosa)\n",
    "\n",
    "# reading the data from the hospital b encounters\n",
    "df_hosb = spark.read.format(\"parquet\").load(src_hosb)\n",
    "\n",
    "# merging the data from both the hospitals\n",
    "df_merged = df_hosa.unionByName(df_hosb)\n",
    "df_merged.display()\n",
    "\n",
    "# creating a temp view to enable sql operations\n",
    "df_merged.createOrReplaceTempView(\"encounters\")"
   ]
  },
  {
   "cell_type": "code",
   "execution_count": 0,
   "metadata": {
    "application/vnd.databricks.v1+cell": {
     "cellMetadata": {
      "byteLimit": 2048000,
      "implicitDf": true,
      "rowLimit": 10000
     },
     "inputWidgets": {},
     "nuid": "54f701e0-be0f-4ff1-a2d7-e396bb568f5f",
     "showTitle": false,
     "tableResultSettingsMap": {},
     "title": ""
    }
   },
   "outputs": [],
   "source": [
    "%sql\n",
    "-- create a temp view table for quality checks\n",
    "-- adding a new column 'is_quarantined' to check for null values\n",
    "-- if any primary/important column null then the particular record should be quarantined(True)\n",
    "-- else Not(False)\n",
    "\n",
    "CREATE OR REPLACE TEMP VIEW quality_checks AS\n",
    "SELECT \n",
    "  concat(EncounterID, '-', datasource) as EncounterID,\n",
    "  EncounterID AS SRC_EncounterID,\n",
    "  PatientID,\n",
    "  EncounterDate,\n",
    "  EncounterType,\n",
    "  ProviderID,\n",
    "  DepartmentID,\n",
    "  ProcedureCode,\n",
    "  InsertedDate as SRC_InsertedDate,\n",
    "  ModifiedDate as SRC_ModifiedDate,\n",
    "  datasource,\n",
    "  CASE \n",
    "    WHEN EncounterID IS NULL OR PatientID IS NULL THEN TRUE\n",
    "    ELSE FALSE\n",
    "  END AS is_quarantined\n",
    "FROM encounters;\n"
   ]
  },
  {
   "cell_type": "code",
   "execution_count": 0,
   "metadata": {
    "application/vnd.databricks.v1+cell": {
     "cellMetadata": {
      "byteLimit": 2048000,
      "implicitDf": true,
      "rowLimit": 10000
     },
     "inputWidgets": {},
     "nuid": "bc1c90b0-e3b8-4edc-a849-01a5bc58d3c1",
     "showTitle": false,
     "tableResultSettingsMap": {},
     "title": ""
    }
   },
   "outputs": [],
   "source": [
    "%sql\n",
    "-- getting some records\n",
    "select * from quality_checks\n",
    "where datasource='hos-b'"
   ]
  },
  {
   "cell_type": "code",
   "execution_count": 0,
   "metadata": {
    "application/vnd.databricks.v1+cell": {
     "cellMetadata": {
      "byteLimit": 2048000,
      "implicitDf": true,
      "rowLimit": 10000
     },
     "inputWidgets": {},
     "nuid": "7bb48d72-5525-4e44-861a-53245ee40fee",
     "showTitle": false,
     "tableResultSettingsMap": {},
     "title": ""
    }
   },
   "outputs": [],
   "source": [
    "%sql\n",
    "-- creating silver.encounters external table \n",
    "\n",
    "CREATE TABLE IF NOT EXISTS silver.encounters (\n",
    "  EncounterID string,\n",
    "  SRC_EncounterID string,\n",
    "  PatientID string,\n",
    "  EncounterDate date,\n",
    "  EncounterType string,\n",
    "  ProviderID string,\n",
    "  DepartmentID string,\n",
    "  ProcedureCode integer,\n",
    "  SRC_InsertedDate date,\n",
    "  SRC_ModifiedDate date,\n",
    "  datasource string,\n",
    "  is_quarantined boolean,\n",
    "  audit_insertdate timestamp,\n",
    "  audit_modifieddate timestamp,\n",
    "  is_current boolean\n",
    ")\n",
    "USING DELTA\n",
    "LOCATION \"abfss://silver@hpadlsacc.dfs.core.windows.net/encounters/\"\n"
   ]
  },
  {
   "cell_type": "code",
   "execution_count": 0,
   "metadata": {
    "application/vnd.databricks.v1+cell": {
     "cellMetadata": {
      "byteLimit": 2048000,
      "implicitDf": true,
      "rowLimit": 10000
     },
     "inputWidgets": {},
     "nuid": "4c6b062a-2656-4784-acf6-66f6c78c303a",
     "showTitle": false,
     "tableResultSettingsMap": {},
     "title": ""
    }
   },
   "outputs": [],
   "source": [
    "%sql\n",
    "-- Step 1: based on condition EncounterID should be simliar and is_current should be true (i.e currently that specific record is active)\n",
    "-- Mark that existing records as historical (is_current = false) for patients that will be updated\n",
    "-- target.is_current = false,\n",
    "-- target.modified_date = current_timestamp()\n",
    "\n",
    "MERGE INTO silver.encounters AS target\n",
    "USING quality_checks AS source\n",
    "ON target.EncounterID = source.EncounterID AND target.is_current = true\n",
    "WHEN MATCHED AND (\n",
    "    target.SRC_EncounterID != source.SRC_EncounterID OR\n",
    "    target.PatientID != source.PatientID OR\n",
    "    target.EncounterDate != source.EncounterDate OR\n",
    "    target.EncounterType != source.EncounterType OR\n",
    "    target.ProviderID != source.ProviderID OR\n",
    "    target.DepartmentID != source.DepartmentID OR\n",
    "    target.ProcedureCode != source.ProcedureCode OR\n",
    "    target.SRC_InsertedDate != source.SRC_InsertedDate OR\n",
    "    target.SRC_ModifiedDate != source.SRC_ModifiedDate OR\n",
    "    target.datasource != source.datasource OR\n",
    "    target.is_quarantined != source.is_quarantined\n",
    ")\n",
    "THEN\n",
    "  UPDATE SET\n",
    "    target.is_current = false,\n",
    "    target.audit_modifieddate = current_timestamp();\n"
   ]
  },
  {
   "cell_type": "code",
   "execution_count": 0,
   "metadata": {
    "application/vnd.databricks.v1+cell": {
     "cellMetadata": {
      "byteLimit": 2048000,
      "implicitDf": true,
      "rowLimit": 10000
     },
     "inputWidgets": {},
     "nuid": "0aab3688-934a-49d2-8dc2-d331b586913f",
     "showTitle": false,
     "tableResultSettingsMap": {},
     "title": ""
    }
   },
   "outputs": [],
   "source": [
    "%sql\n",
    "-- Step 2: Insert new and updated records into the Delta table, marking them as current\n",
    "-- that is old record is updated with new records\n",
    "-- based on condition EncounterID should be simliar and is_current should be true (i.e currently that specific record is active)\n",
    "-- because the condition will not satisfy\n",
    "-- inserting the new records which are not present in the silver table and updating the old records\n",
    "\n",
    "MERGE INTO silver.encounters AS target\n",
    "USING quality_checks AS source\n",
    "ON target.EncounterID = source.EncounterID AND target.is_current = true\n",
    "WHEN NOT MATCHED THEN\n",
    "INSERT (\n",
    "  EncounterID,\n",
    "  SRC_EncounterID,\n",
    "  PatientID,\n",
    "  EncounterDate,\n",
    "  EncounterType,\n",
    "  ProviderID,\n",
    "  DepartmentID,\n",
    "  ProcedureCode,\n",
    "  SRC_InsertedDate,\n",
    "  SRC_ModifiedDate,\n",
    "  datasource,\n",
    "  is_quarantined,\n",
    "  audit_insertdate,\n",
    "  audit_modifieddate,\n",
    "  is_current\n",
    ")\n",
    "VALUES (\n",
    "  source.EncounterID,\n",
    "  source.SRC_EncounterID,\n",
    "  source.PatientID,\n",
    "  source.EncounterDate,\n",
    "  source.EncounterType,\n",
    "  source.ProviderID,\n",
    "  source.DepartmentID,\n",
    "  source.ProcedureCode,\n",
    "  source.SRC_InsertedDate,\n",
    "  source.SRC_ModifiedDate,\n",
    "  source.datasource,\n",
    "  source.is_quarantined,\n",
    "  current_timestamp(),\n",
    "  current_timestamp(),\n",
    "  true\n",
    ");\n"
   ]
  },
  {
   "cell_type": "code",
   "execution_count": 0,
   "metadata": {
    "application/vnd.databricks.v1+cell": {
     "cellMetadata": {
      "byteLimit": 2048000,
      "implicitDf": true,
      "rowLimit": 10000
     },
     "inputWidgets": {},
     "nuid": "0c25e25c-fb6d-418b-a50c-e5269de6f422",
     "showTitle": false,
     "tableResultSettingsMap": {},
     "title": ""
    }
   },
   "outputs": [],
   "source": [
    "%sql\n",
    "-- displaying some records\n",
    "\n",
    "SELECT \n",
    "  SRC_EncounterID,\n",
    "  datasource,\n",
    "  COUNT(patientid) AS patient_count\n",
    "FROM silver.encounters\n",
    "GROUP BY SRC_EncounterID, datasource\n",
    "ORDER BY patient_count DESC;\n"
   ]
  },
  {
   "cell_type": "code",
   "execution_count": 0,
   "metadata": {
    "application/vnd.databricks.v1+cell": {
     "cellMetadata": {
      "byteLimit": 2048000,
      "implicitDf": true,
      "rowLimit": 10000
     },
     "inputWidgets": {},
     "nuid": "78d7c5ae-3df9-4ae3-b227-ef8a7b8f1438",
     "showTitle": false,
     "tableResultSettingsMap": {},
     "title": ""
    }
   },
   "outputs": [],
   "source": [
    "%sql\n",
    "-- drop table silver.encounters"
   ]
  }
 ],
 "metadata": {
  "application/vnd.databricks.v1+notebook": {
   "computePreferences": null,
   "dashboards": [],
   "environmentMetadata": {
    "base_environment": "",
    "environment_version": "3"
   },
   "inputWidgetPreferences": null,
   "language": "python",
   "notebookMetadata": {
    "mostRecentlyExecutedCommandWithImplicitDF": {
     "commandId": 6342263754267269,
     "dataframes": [
      "_sqldf"
     ]
    },
    "pythonIndentUnit": 4
   },
   "notebookName": "encounters",
   "widgets": {}
  },
  "language_info": {
   "name": "python"
  }
 },
 "nbformat": 4,
 "nbformat_minor": 0
}
