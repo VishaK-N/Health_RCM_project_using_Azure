{
 "cells": [
  {
   "cell_type": "code",
   "execution_count": 0,
   "metadata": {
    "application/vnd.databricks.v1+cell": {
     "cellMetadata": {
      "byteLimit": 2048000,
      "rowLimit": 10000
     },
     "inputWidgets": {},
     "nuid": "d7894f0b-6d7f-48d6-b9af-43ab7050cf7f",
     "showTitle": false,
     "tableResultSettingsMap": {},
     "title": ""
    }
   },
   "outputs": [],
   "source": [
    "storageAccountName = \"hpadlsacc\"\n",
    "accessKey = dbutils.secrets.get(scope=\"hc-secret-scope\", key=\"adls-access-key\")\n",
    "\n",
    "containers = [\"gold\", \"silver\", \"bronze\", \"landing\", \"configs\"]\n",
    "\n",
    "for container in containers:\n",
    "    mount_path = f\"/mnt/{container}\"\n",
    "    try:\n",
    "        dbutils.fs.mount(\n",
    "            source=f\"wasbs://{container}@{storageAccountName}.blob.core.windows.net\",\n",
    "            mount_point=mount_path,\n",
    "            extra_configs={f\"fs.azure.account.key.{storageAccountName}.blob.core.windows.net\": accessKey}\n",
    "        )\n",
    "        print(f\"✅ Mounted: {mount_path}\")\n",
    "    except Exception as e:\n",
    "        print(f\"❌ Failed to mount {mount_path}: {e}\")\n"
   ]
  },
  {
   "cell_type": "code",
   "execution_count": 0,
   "metadata": {
    "application/vnd.databricks.v1+cell": {
     "cellMetadata": {},
     "inputWidgets": {},
     "nuid": "debab24b-94c6-42dc-8756-74d9e285adaf",
     "showTitle": false,
     "tableResultSettingsMap": {},
     "title": ""
    }
   },
   "outputs": [],
   "source": [
    "dbutils.fs.mounts()"
   ]
  },
  {
   "cell_type": "code",
   "execution_count": 0,
   "metadata": {
    "application/vnd.databricks.v1+cell": {
     "cellMetadata": {
      "byteLimit": 2048000,
      "rowLimit": 10000
     },
     "inputWidgets": {},
     "nuid": "747b8a81-2b10-4f83-b131-89191a2cc93c",
     "showTitle": false,
     "tableResultSettingsMap": {},
     "title": ""
    }
   },
   "outputs": [],
   "source": [
    "dbutils.secrets.listScopes()\n",
    "dbutils.secrets.list(\"hc-secret-scope\")\n",
    "\n"
   ]
  }
 ],
 "metadata": {
  "application/vnd.databricks.v1+notebook": {
   "computePreferences": null,
   "dashboards": [],
   "environmentMetadata": {
    "base_environment": "",
    "environment_version": "3"
   },
   "inputWidgetPreferences": null,
   "language": "python",
   "notebookMetadata": {
    "pythonIndentUnit": 4
   },
   "notebookName": "adls_mount",
   "widgets": {}
  },
  "language_info": {
   "name": "python"
  }
 },
 "nbformat": 4,
 "nbformat_minor": 0
}
