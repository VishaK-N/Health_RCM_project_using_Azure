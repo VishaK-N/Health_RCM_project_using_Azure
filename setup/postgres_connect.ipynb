{
 "cells": [
  {
   "cell_type": "markdown",
   "metadata": {
    "application/vnd.databricks.v1+cell": {
     "cellMetadata": {},
     "inputWidgets": {},
     "nuid": "d8be5a89-202a-4f17-844a-f251bfedba4a",
     "showTitle": false,
     "tableResultSettingsMap": {},
     "title": ""
    }
   },
   "source": [
    "#### Tried to connect with Postgres"
   ]
  },
  {
   "cell_type": "code",
   "execution_count": 0,
   "metadata": {
    "application/vnd.databricks.v1+cell": {
     "cellMetadata": {
      "byteLimit": 2048000,
      "rowLimit": 10000
     },
     "inputWidgets": {},
     "nuid": "67127e10-f240-4893-bdc0-ac1339034fb0",
     "showTitle": false,
     "tableResultSettingsMap": {},
     "title": ""
    }
   },
   "outputs": [],
   "source": [
    "# service principal for integrating with ADLS and access it's data\n",
    "\n",
    "spark.conf.set(\"fs.azure.account.auth.type.hpadlsacc.dfs.core.windows.net\", \"OAuth\")\n",
    "spark.conf.set(\"fs.azure.account.oauth.provider.type.hpadlsacc.dfs.core.windows.net\", \"org.apache.hadoop.fs.azurebfs.oauth2.ClientCredsTokenProvider\")\n",
    "spark.conf.set(\"fs.azure.account.oauth2.client.id.hpadlsacc.dfs.core.windows.net\", dbutils.secrets.get(\"hc-secret-scope\", \"app-key\"))\n",
    "spark.conf.set(\"fs.azure.account.oauth2.client.secret.hpadlsacc.dfs.core.windows.net\", dbutils.secrets.get(\"hc-secret-scope\", \"service-cred\"))\n",
    "tenant_id = dbutils.secrets.get(\"hc-secret-scope\", \"dir-id\")\n",
    "spark.conf.set(\"fs.azure.account.oauth2.client.endpoint.hpadlsacc.dfs.core.windows.net\", f\"https://login.microsoftonline.com/{tenant_id}/oauth2/token\")"
   ]
  },
  {
   "cell_type": "code",
   "execution_count": 0,
   "metadata": {
    "application/vnd.databricks.v1+cell": {
     "cellMetadata": {
      "byteLimit": 2048000,
      "rowLimit": 10000
     },
     "inputWidgets": {},
     "nuid": "06a4d77b-41bc-4eab-b252-6c5e9a60a1f1",
     "showTitle": false,
     "tableResultSettingsMap": {},
     "title": ""
    }
   },
   "outputs": [],
   "source": [
    "# defining the path\n",
    "claims = \"abfss://gold@hpadlsacc.dfs.core.windows.net/dim_claims\"\n",
    "patient = \"abfss://gold@hpadlsacc.dfs.core.windows.net/dim_patient\"\n",
    "provider = \"abfss://gold@hpadlsacc.dfs.core.windows.net/dim_provider\"\n",
    "departments = \"abfss://gold@hpadlsacc.dfs.core.windows.net/dim_department\"\n",
    "transactions = \"abfss://gold@hpadlsacc.dfs.core.windows.net/fact_transactions\"\n",
    "encounter = \"abfss://gold@hpadlsacc.dfs.core.windows.net/dim_encounter\""
   ]
  },
  {
   "cell_type": "markdown",
   "metadata": {
    "application/vnd.databricks.v1+cell": {
     "cellMetadata": {},
     "inputWidgets": {},
     "nuid": "d919bdb2-8925-4dcc-805d-eab34359a8e1",
     "showTitle": false,
     "tableResultSettingsMap": {},
     "title": ""
    }
   },
   "source": [
    "#### error while saving it in the postgres database"
   ]
  },
  {
   "cell_type": "code",
   "execution_count": 0,
   "metadata": {
    "application/vnd.databricks.v1+cell": {
     "cellMetadata": {
      "byteLimit": 2048000,
      "rowLimit": 10000
     },
     "inputWidgets": {},
     "nuid": "e203e3b9-bfc6-47f5-8c83-34c6db2ae2d0",
     "showTitle": false,
     "tableResultSettingsMap": {},
     "title": ""
    }
   },
   "outputs": [],
   "source": [
    "tables = [\"dim_claims\", \"dim_patient\", \"dim_provider\", \"dim_departments\" ,\"fact_transactions\", \"dim_encounter\"]\n",
    "\n",
    "for table in tables:\n",
    "\n",
    "    df = spark.read.format(\"delta\").load(f\"abfss://gold@hpadlsacc.dfs.core.windows.net/{table}\")\n",
    "\n",
    "    df.write \\\n",
    "      .format(\"jdbc\") \\\n",
    "      .option(\"url\", \"jdbc:postgresql://postgreshcdb.postgres.database.azure.com:5432/postgres\") \\\n",
    "      .option(\"dbtable\", table) \\\n",
    "      .option(\"user\", \"vishak@postgreshcdb\") \\\n",
    "      .option(\"password\", \"@admin001\") \\\n",
    "      .option(\"sslmode\", \"require\")\\\n",
    "      .mode(\"overwrite\") \\\n",
    "      .save()\n"
   ]
  }
 ],
 "metadata": {
  "application/vnd.databricks.v1+notebook": {
   "computePreferences": null,
   "dashboards": [],
   "environmentMetadata": {
    "base_environment": "",
    "environment_version": "2"
   },
   "inputWidgetPreferences": null,
   "language": "python",
   "notebookMetadata": {
    "pythonIndentUnit": 4
   },
   "notebookName": "postgres_connect",
   "widgets": {}
  },
  "language_info": {
   "name": "python"
  }
 },
 "nbformat": 4,
 "nbformat_minor": 0
}
